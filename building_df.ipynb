{
 "cells": [
  {
   "cell_type": "code",
   "execution_count": 236,
   "metadata": {},
   "outputs": [],
   "source": [
    "import pandas as pd\n",
    "import numpy as np\n",
    "import matplotlib.pyplot as plt"
   ]
  },
  {
   "cell_type": "code",
   "execution_count": 256,
   "metadata": {},
   "outputs": [],
   "source": [
    "# build df\n",
    "\n",
    "# load log file\n",
    "file = open('data_2019-05-30_03:38.txt', \"r\") \n",
    "text = file.read() \n",
    "file.close()\n",
    "\n",
    "# split text into matrix\n",
    "rows = text.split(\"\\n\")\n",
    "header = rows[0].split(\"\\t\")\n",
    "logs =  np.array([row.split(\"\\t\") for row in rows[1:]])\n",
    "\n",
    "logs1 = logs[:2349]\n",
    "logs2 = logs[2350:]\n",
    "logs = np.concatenate((logs1,logs2),axis = 0)\n",
    "\n",
    "logs = np.concatenate(logs, axis=0 )\n",
    "logs = np.reshape(logs, (-1, 3))"
   ]
  },
  {
   "cell_type": "code",
   "execution_count": 259,
   "metadata": {},
   "outputs": [
    {
     "data": {
      "text/html": [
       "<div>\n",
       "<style scoped>\n",
       "    .dataframe tbody tr th:only-of-type {\n",
       "        vertical-align: middle;\n",
       "    }\n",
       "\n",
       "    .dataframe tbody tr th {\n",
       "        vertical-align: top;\n",
       "    }\n",
       "\n",
       "    .dataframe thead th {\n",
       "        text-align: right;\n",
       "    }\n",
       "</style>\n",
       "<table border=\"1\" class=\"dataframe\">\n",
       "  <thead>\n",
       "    <tr style=\"text-align: right;\">\n",
       "      <th></th>\n",
       "      <th>Case_num</th>\n",
       "      <th>Status</th>\n",
       "      <th>Details</th>\n",
       "    </tr>\n",
       "  </thead>\n",
       "  <tbody>\n",
       "    <tr>\n",
       "      <th>0</th>\n",
       "      <td>1990224000</td>\n",
       "      <td>Case Was Received</td>\n",
       "      <td>On March 21, 2019, we received your Form I-765...</td>\n",
       "    </tr>\n",
       "    <tr>\n",
       "      <th>1</th>\n",
       "      <td>1990223990</td>\n",
       "      <td>Validation Error</td>\n",
       "      <td>My Case Status does not recognize the receipt ...</td>\n",
       "    </tr>\n",
       "    <tr>\n",
       "      <th>2</th>\n",
       "      <td>1990223980</td>\n",
       "      <td>Case Was Received</td>\n",
       "      <td>On March 21, 2019, we received your Form I-765...</td>\n",
       "    </tr>\n",
       "    <tr>\n",
       "      <th>3</th>\n",
       "      <td>1990223970</td>\n",
       "      <td>Case Was Received</td>\n",
       "      <td>On March 21, 2019, we received your Form I-765...</td>\n",
       "    </tr>\n",
       "    <tr>\n",
       "      <th>4</th>\n",
       "      <td>1990223960</td>\n",
       "      <td>Card Was Mailed To Me</td>\n",
       "      <td>On May 20, 2019, we mailed your new card for y...</td>\n",
       "    </tr>\n",
       "  </tbody>\n",
       "</table>\n",
       "</div>"
      ],
      "text/plain": [
       "     Case_num                 Status  \\\n",
       "0  1990224000      Case Was Received   \n",
       "1  1990223990       Validation Error   \n",
       "2  1990223980      Case Was Received   \n",
       "3  1990223970      Case Was Received   \n",
       "4  1990223960  Card Was Mailed To Me   \n",
       "\n",
       "                                             Details  \n",
       "0  On March 21, 2019, we received your Form I-765...  \n",
       "1  My Case Status does not recognize the receipt ...  \n",
       "2  On March 21, 2019, we received your Form I-765...  \n",
       "3  On March 21, 2019, we received your Form I-765...  \n",
       "4  On May 20, 2019, we mailed your new card for y...  "
      ]
     },
     "execution_count": 259,
     "metadata": {},
     "output_type": "execute_result"
    }
   ],
   "source": [
    "df = pd.DataFrame(logs, columns = header)\n",
    "df['Case_num'] = df['Case_num'].astype('int64')\n",
    "df.head()"
   ]
  },
  {
   "cell_type": "code",
   "execution_count": 260,
   "metadata": {},
   "outputs": [
    {
     "data": {
      "text/plain": [
       "(3550, 3)"
      ]
     },
     "execution_count": 260,
     "metadata": {},
     "output_type": "execute_result"
    }
   ],
   "source": [
    "i765_df = df[df['Details'].str.contains('Form I-765')]\n",
    "i765_df.shape"
   ]
  },
  {
   "cell_type": "code",
   "execution_count": 261,
   "metadata": {},
   "outputs": [
    {
     "name": "stderr",
     "output_type": "stream",
     "text": [
      "/jet/var/python/lib/python3.6/site-packages/ipykernel_launcher.py:1: SettingWithCopyWarning: \n",
      "A value is trying to be set on a copy of a slice from a DataFrame.\n",
      "Try using .loc[row_indexer,col_indexer] = value instead\n",
      "\n",
      "See the caveats in the documentation: http://pandas.pydata.org/pandas-docs/stable/indexing.html#indexing-view-versus-copy\n",
      "  \"\"\"Entry point for launching an IPython kernel.\n"
     ]
    },
    {
     "data": {
      "text/html": [
       "<div>\n",
       "<style scoped>\n",
       "    .dataframe tbody tr th:only-of-type {\n",
       "        vertical-align: middle;\n",
       "    }\n",
       "\n",
       "    .dataframe tbody tr th {\n",
       "        vertical-align: top;\n",
       "    }\n",
       "\n",
       "    .dataframe thead th {\n",
       "        text-align: right;\n",
       "    }\n",
       "</style>\n",
       "<table border=\"1\" class=\"dataframe\">\n",
       "  <thead>\n",
       "    <tr style=\"text-align: right;\">\n",
       "      <th></th>\n",
       "      <th>Case_num</th>\n",
       "    </tr>\n",
       "  </thead>\n",
       "  <tbody>\n",
       "    <tr>\n",
       "      <th>count</th>\n",
       "      <td>3.550000e+03</td>\n",
       "    </tr>\n",
       "    <tr>\n",
       "      <th>mean</th>\n",
       "      <td>1.990201e+09</td>\n",
       "    </tr>\n",
       "    <tr>\n",
       "      <th>std</th>\n",
       "      <td>1.382552e+04</td>\n",
       "    </tr>\n",
       "    <tr>\n",
       "      <th>min</th>\n",
       "      <td>1.990175e+09</td>\n",
       "    </tr>\n",
       "    <tr>\n",
       "      <th>25%</th>\n",
       "      <td>1.990190e+09</td>\n",
       "    </tr>\n",
       "    <tr>\n",
       "      <th>50%</th>\n",
       "      <td>1.990202e+09</td>\n",
       "    </tr>\n",
       "    <tr>\n",
       "      <th>75%</th>\n",
       "      <td>1.990213e+09</td>\n",
       "    </tr>\n",
       "    <tr>\n",
       "      <th>max</th>\n",
       "      <td>1.990224e+09</td>\n",
       "    </tr>\n",
       "  </tbody>\n",
       "</table>\n",
       "</div>"
      ],
      "text/plain": [
       "           Case_num\n",
       "count  3.550000e+03\n",
       "mean   1.990201e+09\n",
       "std    1.382552e+04\n",
       "min    1.990175e+09\n",
       "25%    1.990190e+09\n",
       "50%    1.990202e+09\n",
       "75%    1.990213e+09\n",
       "max    1.990224e+09"
      ]
     },
     "execution_count": 261,
     "metadata": {},
     "output_type": "execute_result"
    }
   ],
   "source": [
    "i765_df['Case_num'] = i765_df['Case_num'].astype('int64')\n",
    "i765_df.describe()"
   ]
  },
  {
   "cell_type": "code",
   "execution_count": 262,
   "metadata": {},
   "outputs": [
    {
     "data": {
      "text/plain": [
       "(1383, 3)"
      ]
     },
     "execution_count": 262,
     "metadata": {},
     "output_type": "execute_result"
    }
   ],
   "source": [
    "others_df = df[~df['Details'].str.contains('Form I-765')]\n",
    "others_df.shape"
   ]
  },
  {
   "cell_type": "code",
   "execution_count": 263,
   "metadata": {
    "scrolled": false
   },
   "outputs": [
    {
     "data": {
      "text/html": [
       "<div>\n",
       "<style scoped>\n",
       "    .dataframe tbody tr th:only-of-type {\n",
       "        vertical-align: middle;\n",
       "    }\n",
       "\n",
       "    .dataframe tbody tr th {\n",
       "        vertical-align: top;\n",
       "    }\n",
       "\n",
       "    .dataframe thead th {\n",
       "        text-align: right;\n",
       "    }\n",
       "</style>\n",
       "<table border=\"1\" class=\"dataframe\">\n",
       "  <thead>\n",
       "    <tr style=\"text-align: right;\">\n",
       "      <th></th>\n",
       "      <th>Case_num</th>\n",
       "      <th>Details</th>\n",
       "    </tr>\n",
       "    <tr>\n",
       "      <th>Status</th>\n",
       "      <th></th>\n",
       "      <th></th>\n",
       "    </tr>\n",
       "  </thead>\n",
       "  <tbody>\n",
       "    <tr>\n",
       "      <th>Card Was Mailed To Me</th>\n",
       "      <td>404</td>\n",
       "      <td>404</td>\n",
       "    </tr>\n",
       "    <tr>\n",
       "      <th>Card Was Returned To USCIS</th>\n",
       "      <td>7</td>\n",
       "      <td>7</td>\n",
       "    </tr>\n",
       "    <tr>\n",
       "      <th>Case Rejected Because I Sent An Incorrect Fee</th>\n",
       "      <td>66</td>\n",
       "      <td>66</td>\n",
       "    </tr>\n",
       "    <tr>\n",
       "      <th>Case Rejected For Incorrect Fee And Form Not Signed</th>\n",
       "      <td>3</td>\n",
       "      <td>3</td>\n",
       "    </tr>\n",
       "    <tr>\n",
       "      <th>Case Was Approved</th>\n",
       "      <td>61</td>\n",
       "      <td>61</td>\n",
       "    </tr>\n",
       "    <tr>\n",
       "      <th>Case Was Received</th>\n",
       "      <td>2815</td>\n",
       "      <td>2815</td>\n",
       "    </tr>\n",
       "    <tr>\n",
       "      <th>Case Was Rejected Because I Did Not Sign My Form</th>\n",
       "      <td>12</td>\n",
       "      <td>12</td>\n",
       "    </tr>\n",
       "    <tr>\n",
       "      <th>Case Was Rejected Because It Was Improperly Filed</th>\n",
       "      <td>15</td>\n",
       "      <td>15</td>\n",
       "    </tr>\n",
       "    <tr>\n",
       "      <th>Case Was Transferred And A New Office Has Jurisdiction</th>\n",
       "      <td>1</td>\n",
       "      <td>1</td>\n",
       "    </tr>\n",
       "    <tr>\n",
       "      <th>Correspondence Was Received And USCIS Is Reviewing It</th>\n",
       "      <td>36</td>\n",
       "      <td>36</td>\n",
       "    </tr>\n",
       "    <tr>\n",
       "      <th>Date of Birth Was Updated</th>\n",
       "      <td>1</td>\n",
       "      <td>1</td>\n",
       "    </tr>\n",
       "    <tr>\n",
       "      <th>Decision Notice Mailed</th>\n",
       "      <td>14</td>\n",
       "      <td>14</td>\n",
       "    </tr>\n",
       "    <tr>\n",
       "      <th>Duplicate Notice Was Mailed</th>\n",
       "      <td>3</td>\n",
       "      <td>3</td>\n",
       "    </tr>\n",
       "    <tr>\n",
       "      <th>Fees Were Waived</th>\n",
       "      <td>32</td>\n",
       "      <td>32</td>\n",
       "    </tr>\n",
       "    <tr>\n",
       "      <th>Name Was Updated</th>\n",
       "      <td>20</td>\n",
       "      <td>20</td>\n",
       "    </tr>\n",
       "    <tr>\n",
       "      <th>Notice Explaining USCIS Actions Was Mailed</th>\n",
       "      <td>2</td>\n",
       "      <td>2</td>\n",
       "    </tr>\n",
       "    <tr>\n",
       "      <th>Notice Was Returned To USCIS Because The Post Office Could Not Deliver It</th>\n",
       "      <td>50</td>\n",
       "      <td>50</td>\n",
       "    </tr>\n",
       "    <tr>\n",
       "      <th>Request for Initial Evidence Was Mailed</th>\n",
       "      <td>5</td>\n",
       "      <td>5</td>\n",
       "    </tr>\n",
       "    <tr>\n",
       "      <th>Response To USCIS' Request For Evidence Was Received</th>\n",
       "      <td>2</td>\n",
       "      <td>2</td>\n",
       "    </tr>\n",
       "    <tr>\n",
       "      <th>Withdrawal Acknowledgement Notice Was Sent</th>\n",
       "      <td>1</td>\n",
       "      <td>1</td>\n",
       "    </tr>\n",
       "  </tbody>\n",
       "</table>\n",
       "</div>"
      ],
      "text/plain": [
       "                                                    Case_num  Details\n",
       "Status                                                               \n",
       "Card Was Mailed To Me                                    404      404\n",
       "Card Was Returned To USCIS                                 7        7\n",
       "Case Rejected Because I Sent An Incorrect Fee             66       66\n",
       "Case Rejected For Incorrect Fee And Form Not Si...         3        3\n",
       "Case Was Approved                                         61       61\n",
       "Case Was Received                                       2815     2815\n",
       "Case Was Rejected Because I Did Not Sign My Form          12       12\n",
       "Case Was Rejected Because It Was Improperly Filed         15       15\n",
       "Case Was Transferred And A New Office Has Juris...         1        1\n",
       "Correspondence Was Received And USCIS Is Review...        36       36\n",
       "Date of Birth Was Updated                                  1        1\n",
       "Decision Notice Mailed                                    14       14\n",
       "Duplicate Notice Was Mailed                                3        3\n",
       "Fees Were Waived                                          32       32\n",
       "Name Was Updated                                          20       20\n",
       "Notice Explaining USCIS Actions Was Mailed                 2        2\n",
       "Notice Was Returned To USCIS Because The Post O...        50       50\n",
       "Request for Initial Evidence Was Mailed                    5        5\n",
       "Response To USCIS' Request For Evidence Was Rec...         2        2\n",
       "Withdrawal Acknowledgement Notice Was Sent                 1        1"
      ]
     },
     "execution_count": 263,
     "metadata": {},
     "output_type": "execute_result"
    }
   ],
   "source": [
    "i765_df.groupby('Status').count()"
   ]
  },
  {
   "cell_type": "markdown",
   "metadata": {},
   "source": [
    "### Insight 1: Only 70% of all YSC cases are Form I-765 (EAD) related"
   ]
  },
  {
   "cell_type": "code",
   "execution_count": 264,
   "metadata": {},
   "outputs": [
    {
     "data": {
      "text/plain": [
       "0.7196432191364281"
      ]
     },
     "execution_count": 264,
     "metadata": {},
     "output_type": "execute_result"
    }
   ],
   "source": [
    "sum(df['Details'].str.contains('Form I-765'))/df.Details.count()"
   ]
  },
  {
   "cell_type": "markdown",
   "metadata": {},
   "source": [
    "### Insight 2: Of all I-765 cases, 57% are still \"Received\" and 8% are \"Mailed\""
   ]
  },
  {
   "cell_type": "code",
   "execution_count": 265,
   "metadata": {},
   "outputs": [
    {
     "name": "stdout",
     "output_type": "stream",
     "text": [
      "0.570646665315224\n",
      "0.08189742550172309\n"
     ]
    }
   ],
   "source": [
    "print(i765_df[i765_df['Status'] == 'Case Was Received'].Details.count()/df.Details.count())\n",
    "print(i765_df[i765_df['Status'] == 'Card Was Mailed To Me'].Details.count()/df.Details.count())"
   ]
  },
  {
   "cell_type": "code",
   "execution_count": 267,
   "metadata": {},
   "outputs": [
    {
     "name": "stderr",
     "output_type": "stream",
     "text": [
      "/jet/var/python/lib/python3.6/site-packages/ipykernel_launcher.py:11: SettingWithCopyWarning: \n",
      "A value is trying to be set on a copy of a slice from a DataFrame.\n",
      "Try using .loc[row_indexer,col_indexer] = value instead\n",
      "\n",
      "See the caveats in the documentation: http://pandas.pydata.org/pandas-docs/stable/indexing.html#indexing-view-versus-copy\n",
      "  # This is added back by InteractiveShellApp.init_path()\n"
     ]
    },
    {
     "data": {
      "image/png": "[encoded data removed]",
      "text/plain": [
       "<Figure size 1080x432 with 1 Axes>"
      ]
     },
     "metadata": {},
     "output_type": "display_data"
    }
   ],
   "source": [
    "rec_df = i765_df[i765_df['Status'] == 'Case Was Received']\n",
    "\n",
    "dates = []\n",
    "\n",
    "for i, row in rec_df.iterrows():\n",
    "    text = row['Details']\n",
    "    date = text.split(', we received your')[0][3:]\n",
    "    date = pd.to_datetime(date).date()\n",
    "    dates.append(date)\n",
    "    \n",
    "rec_df['Dates'] = dates\n",
    "\n",
    "counts = rec_df.groupby(\"Dates\")['Case_num'].count()\n",
    "dates_list = list(counts.index.values)\n",
    "counts_list = list(counts)\n",
    "\n",
    "fig, ax = plt.subplots(figsize=(15,6))\n",
    "ax.bar(dates_list, counts_list)\n",
    "plt.show()"
   ]
  },
  {
   "cell_type": "code",
   "execution_count": 269,
   "metadata": {},
   "outputs": [
    {
     "name": "stderr",
     "output_type": "stream",
     "text": [
      "/jet/var/python/lib/python3.6/site-packages/ipykernel_launcher.py:13: SettingWithCopyWarning: \n",
      "A value is trying to be set on a copy of a slice from a DataFrame.\n",
      "Try using .loc[row_indexer,col_indexer] = value instead\n",
      "\n",
      "See the caveats in the documentation: http://pandas.pydata.org/pandas-docs/stable/indexing.html#indexing-view-versus-copy\n",
      "  del sys.path[0]\n"
     ]
    },
    {
     "data": {
      "image/png": "[encoded data removed]",
      "text/plain": [
       "<Figure size 1080x432 with 1 Axes>"
      ]
     },
     "metadata": {},
     "output_type": "display_data"
    }
   ],
   "source": [
    "subset_df = i765_df[i765_df['Case_num']>1990180000]\n",
    "\n",
    "rec_df = subset_df[subset_df['Status'] == 'Case Was Received']\n",
    "\n",
    "dates = []\n",
    "\n",
    "for i, row in rec_df.iterrows():\n",
    "    text = row['Details']\n",
    "    date = text.split(', we received your')[0][3:]\n",
    "    date = pd.to_datetime(date).date()\n",
    "    dates.append(date)\n",
    "    \n",
    "rec_df['Dates'] = dates\n",
    "\n",
    "counts = rec_df.groupby(\"Dates\")['Case_num'].count()\n",
    "dates_list = list(counts.index.values)\n",
    "counts_list = list(counts)\n",
    "\n",
    "fig, ax = plt.subplots(figsize=(15,6))\n",
    "ax.bar(dates_list, counts_list)\n",
    "plt.show()"
   ]
  },
  {
   "cell_type": "code",
   "execution_count": 227,
   "metadata": {},
   "outputs": [
    {
     "data": {
      "text/plain": [
       "count    3.550000e+03\n",
       "mean     1.990201e+09\n",
       "std      1.382552e+04\n",
       "min      1.990175e+09\n",
       "25%      1.990190e+09\n",
       "50%      1.990202e+09\n",
       "75%      1.990213e+09\n",
       "max      1.990224e+09\n",
       "Name: Case_num, dtype: float64"
      ]
     },
     "execution_count": 227,
     "metadata": {},
     "output_type": "execute_result"
    }
   ],
   "source": [
    "i765_df['Case_num'] = i765_df['Case_num'].astype('int64')\n",
    "i765_df.describe()"
   ]
  },
  {
   "cell_type": "code",
   "execution_count": null,
   "metadata": {},
   "outputs": [],
   "source": [
    "# get case recieved date"
   ]
  },
  {
   "cell_type": "code",
   "execution_count": null,
   "metadata": {},
   "outputs": [],
   "source": [
    "# get "
   ]
  },
  {
   "cell_type": "code",
   "execution_count": 228,
   "metadata": {},
   "outputs": [
    {
     "data": {
      "text/plain": [
       "1990190000.0"
      ]
     },
     "execution_count": 228,
     "metadata": {},
     "output_type": "execute_result"
    }
   ],
   "source": [
    "1.990190e+09"
   ]
  },
  {
   "cell_type": "code",
   "execution_count": null,
   "metadata": {},
   "outputs": [],
   "source": []
  }
 ],
 "metadata": {
  "kernelspec": {
   "display_name": "Python 3",
   "language": "python",
   "name": "python3"
  },
  "language_info": {
   "codemirror_mode": {
    "name": "ipython",
    "version": 3
   },
   "file_extension": ".py",
   "mimetype": "text/x-python",
   "name": "python",
   "nbconvert_exporter": "python",
   "pygments_lexer": "ipython3",
   "version": "3.6.3"
  }
 },
 "nbformat": 4,
 "nbformat_minor": 2
}
