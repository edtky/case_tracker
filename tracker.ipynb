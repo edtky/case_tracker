{
 "cells": [
  {
   "cell_type": "code",
   "execution_count": 23,
   "metadata": {},
   "outputs": [],
   "source": [
    "from bs4 import BeautifulSoup\n",
    "from mechanize import Browser\n",
    "\n",
    "br = Browser()\n",
    "\n",
    "import time\n",
    "import datetime\n",
    "import random"
   ]
  },
  {
   "cell_type": "code",
   "execution_count": 24,
   "metadata": {},
   "outputs": [],
   "source": [
    "startCase = 1990224000\n",
    "endCase = 1990150000"
   ]
  },
  {
   "cell_type": "code",
   "execution_count": 25,
   "metadata": {},
   "outputs": [],
   "source": [
    "# Ignore robots.txt\n",
    "br.set_handle_robots( False )\n",
    "# Google demands a user-agent that isn't a robot\n",
    "br.addheaders = [('User-agent', 'Firefox')]"
   ]
  },
  {
   "cell_type": "code",
   "execution_count": 26,
   "metadata": {},
   "outputs": [],
   "source": [
    "def init_log_file():\n",
    "    \n",
    "    header = 'Case_num\\tStatus\\tDetails'\n",
    "    \n",
    "    start_time = datetime.datetime.now()\n",
    "    \n",
    "    fname = 'data_' + str(start_time).replace(' ','_')[:16] + '.txt'\n",
    "    \n",
    "    file = open(fname, \"w\") \n",
    "    file.write(header) \n",
    "    file.close()\n",
    "        \n",
    "    return fname\n",
    "\n",
    "def log_data(log_file, case, status, details):\n",
    "    \n",
    "    log_row = \"\\n{}\\t{}\\t{}\".format(case,\n",
    "                                    status,\n",
    "                                    details)\n",
    "\n",
    "    file = open(log_file, \"a\") \n",
    "    file.write(log_row) \n",
    "    file.close()\n",
    "    \n",
    "    return None"
   ]
  },
  {
   "cell_type": "code",
   "execution_count": 27,
   "metadata": {},
   "outputs": [
    {
     "name": "stdout",
     "output_type": "stream",
     "text": [
      "1990224000 Case Was Received\n",
      "1990223000 Case Was Received\n",
      "1990222000 Case Was Approved\n",
      "1990221000 Case Was Received\n",
      "1990220000 Case Was Received\n",
      "1990219000 Card Was Mailed To Me\n",
      "1990218000 Card Was Mailed To Me\n",
      "1990217000 Case Was Received\n",
      "1990216000 Case Was Received\n",
      "1990215000 Case Was Received\n",
      "1990214000 Fingerprint Fee Was Received\n",
      "1990213000 Case Was Received\n",
      "1990212000 Case Was Received\n",
      "1990211000 Case Was Received\n",
      "1990210000 Correspondence Was Received And USCIS Is Reviewing It\n",
      "1990209000 Card Was Delivered To Me By The Post Office\n",
      "1990208000 Case Was Received\n",
      "1990207000 Case Was Received\n",
      "1990206000 Case Was Received\n",
      "1990205000 Case Was Received\n",
      "1990204000 Card Was Delivered To Me By The Post Office\n",
      "1990203000 Case Was Received\n",
      "1990202000 Case Was Received\n",
      "1990201000 Card Was Delivered To Me By The Post Office\n",
      "1990200000 Case Was Received\n",
      "1990199000 Card Was Mailed To Me\n",
      "1990198000 Validation Error\n",
      "1990197000 Card Was Delivered To Me By The Post Office\n",
      "1990196000 Case Was Received\n",
      "1990195000 Card Was Mailed To Me\n",
      "1990194000 Case Was Received\n",
      "1990193000 Card Was Delivered To Me By The Post Office\n",
      "1990192000 Case Was Received\n",
      "1990191000 Case Was Received\n",
      "1990190000 Case Was Received\n",
      "1990189000 Case Was Received\n",
      "1990188000 Case Was Received\n",
      "1990187000 Case Was Received\n",
      "1990186000 Case Was Received\n",
      "1990185000 Card Was Delivered To Me By The Post Office\n",
      "1990184000 Card Was Mailed To Me\n",
      "1990183000 Card Was Delivered To Me By The Post Office\n",
      "1990182000 Case Was Approved\n",
      "1990181000 Case Was Received\n",
      "1990180000 Request for Initial Evidence Was Mailed\n",
      "1990179000 Notice Explaining USCIS Actions Was Mailed\n",
      "1990178000 Case Was Received\n",
      "1990177000 Card Was Mailed To Me\n",
      "1990176000 Case Was Approved\n",
      "1990175000 Card Was Mailed To Me\n"
     ]
    },
    {
     "ename": "AttributeError",
     "evalue": "'NoneType' object has no attribute 'text'",
     "output_type": "error",
     "traceback": [
      "\u001b[0;31m---------------------------------------------------------------------------\u001b[0m",
      "\u001b[0;31mAttributeError\u001b[0m                            Traceback (most recent call last)",
      "\u001b[0;32m<ipython-input-27-3111b1dbb4b8>\u001b[0m in \u001b[0;36m<module>\u001b[0;34m()\u001b[0m\n\u001b[1;32m     18\u001b[0m     \u001b[0mhtml\u001b[0m \u001b[0;34m=\u001b[0m \u001b[0mbr\u001b[0m\u001b[0;34m.\u001b[0m\u001b[0mresponse\u001b[0m\u001b[0;34m(\u001b[0m\u001b[0;34m)\u001b[0m\u001b[0;34m.\u001b[0m\u001b[0mread\u001b[0m\u001b[0;34m(\u001b[0m\u001b[0;34m)\u001b[0m\u001b[0;34m\u001b[0m\u001b[0m\n\u001b[1;32m     19\u001b[0m     \u001b[0msoup\u001b[0m \u001b[0;34m=\u001b[0m \u001b[0mBeautifulSoup\u001b[0m\u001b[0;34m(\u001b[0m\u001b[0mhtml\u001b[0m\u001b[0;34m,\u001b[0m \u001b[0;34m'html.parser'\u001b[0m\u001b[0;34m)\u001b[0m\u001b[0;34m\u001b[0m\u001b[0m\n\u001b[0;32m---> 20\u001b[0;31m     \u001b[0mstatus\u001b[0m \u001b[0;34m=\u001b[0m \u001b[0msoup\u001b[0m\u001b[0;34m.\u001b[0m\u001b[0mfind\u001b[0m\u001b[0;34m(\u001b[0m\u001b[0;34m'h1'\u001b[0m\u001b[0;34m)\u001b[0m\u001b[0;34m.\u001b[0m\u001b[0mtext\u001b[0m\u001b[0;34m\u001b[0m\u001b[0m\n\u001b[0m\u001b[1;32m     21\u001b[0m     \u001b[0mdetails\u001b[0m \u001b[0;34m=\u001b[0m \u001b[0msoup\u001b[0m\u001b[0;34m.\u001b[0m\u001b[0mfind\u001b[0m\u001b[0;34m(\u001b[0m\u001b[0;34m'p'\u001b[0m\u001b[0;34m)\u001b[0m\u001b[0;34m.\u001b[0m\u001b[0mtext\u001b[0m\u001b[0;34m\u001b[0m\u001b[0m\n\u001b[1;32m     22\u001b[0m \u001b[0;34m\u001b[0m\u001b[0m\n",
      "\u001b[0;31mAttributeError\u001b[0m: 'NoneType' object has no attribute 'text'"
     ]
    }
   ],
   "source": [
    "log_file = init_log_file()\n",
    "\n",
    "case = startCase\n",
    "status_messages = {}\n",
    "\n",
    "while case > endCase:\n",
    "    \n",
    "    start_time = time.time()\n",
    "    \n",
    "    br.open( \"http://egov.uscis.gov/casestatus/landing.do\" )\n",
    "    # Select the form\n",
    "    br.select_form( 'caseStatusForm' )\n",
    "    # print br.form\n",
    "    br.form[\"appReceiptNum\"] = 'YSC' + str(case)\n",
    "\n",
    "    # Get the response\n",
    "    br.submit()\n",
    "    html = br.response().read()\n",
    "    soup = BeautifulSoup(html, 'html.parser')\n",
    "    status = soup.find('h1').text\n",
    "    details = soup.find('p').text\n",
    "    \n",
    "    # validation error\n",
    "    if \"\\n\" in status:\n",
    "        status = \"Validation Error\"\n",
    "        details = \"My Case Status does not recognize the receipt number entered.\"\n",
    "    \n",
    "    # store case, status, and details\n",
    "    log_data(log_file, case, status, details)\n",
    "    \n",
    "    if case % 1000 == 0:\n",
    "        print(case, status)\n",
    "    \n",
    "    case -= 10\n",
    "    \n",
    "    time.sleep(random.randint(1,3))"
   ]
  }
 ],
 "metadata": {
  "kernelspec": {
   "display_name": "Python 3",
   "language": "python",
   "name": "python3"
  },
  "language_info": {
   "codemirror_mode": {
    "name": "ipython",
    "version": 3
   },
   "file_extension": ".py",
   "mimetype": "text/x-python",
   "name": "python",
   "nbconvert_exporter": "python",
   "pygments_lexer": "ipython3",
   "version": "3.6.3"
  }
 },
 "nbformat": 4,
 "nbformat_minor": 2
}
